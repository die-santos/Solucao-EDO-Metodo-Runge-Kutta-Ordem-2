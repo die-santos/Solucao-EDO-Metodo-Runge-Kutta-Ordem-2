{
 "cells": [
  {
   "cell_type": "markdown",
   "metadata": {},
   "source": [
    "# <center>Sistema Massa-Mola com Oscilação Horizontal</center>\n",
    "## <center>Solução Analítica Método de Runge Kutta de Ordem 2</center>\n",
    "\n",
    "\n",
    "Suponha uma mola de constante elástica $k$ e um bloco de massa $m$, com a mola presa horizontalmente à um suporte e ao bloco, em um ambiente que o coeficiente de atrito $\\mu$ não é desprezível.\n",
    "\n",
    "As equações diferenciais para sistema serão:\n",
    "\n",
    "$$\\ddot{x}  =\\left (-\\frac{k}{m}\\right )x + \\mu g $$\n",
    "\n",
    "e\n",
    "\n",
    "$$\\ddot{x}  =\\left (-\\frac{k}{m}\\right )x - \\mu g $$\n",
    "\n",
    "Existem duas equações diferenciais, pois a força de atrito muda de direção, se opondo sempre a direção de movimento do bloco."
   ]
  },
  {
   "cell_type": "markdown",
   "metadata": {},
   "source": [
    "Biblioteca pylab para a construção de gráficos"
   ]
  },
  {
   "cell_type": "code",
   "execution_count": 1,
   "metadata": {},
   "outputs": [],
   "source": [
    "from pylab import *"
   ]
  },
  {
   "cell_type": "markdown",
   "metadata": {},
   "source": [
    "Criando a função Método de Runge Kutta de Ordem 2"
   ]
  },
  {
   "cell_type": "code",
   "execution_count": 2,
   "metadata": {},
   "outputs": [],
   "source": [
    "def rk2(y,time,dt,derivs):\n",
    "    \n",
    "    k0 = dt * derivs(y,time)\n",
    "    k1 = dt * derivs(y + k0, time + dt)\n",
    "    y_next = y + 0.5 * (k0 + k1)\n",
    "    \n",
    "    return y_next"
   ]
  },
  {
   "cell_type": "markdown",
   "metadata": {},
   "source": [
    "Criando constantes"
   ]
  },
  {
   "cell_type": "code",
   "execution_count": 3,
   "metadata": {},
   "outputs": [],
   "source": [
    "#Número de etapas a serem seguidas\n",
    "N = 500\n",
    "\n",
    "#Posição inicial (m)\n",
    "x0 = 0.2\n",
    "\n",
    "#Velocidade inicial (m/s)\n",
    "v0 = 0.0\n",
    "\n",
    "#Tempo para a simulação (s)\n",
    "tau = 3.0\n",
    "\n",
    "#Constante elástica (N/m)\n",
    "k = 42.0\n",
    "\n",
    "#Massa do bloco (Kg)\n",
    "m = 0.25\n",
    "\n",
    "#Gravidade (m/s^2)\n",
    "gravity = 9.8\n",
    "\n",
    "#Coeficiente de Atrito\n",
    "mu = 0.15"
   ]
  },
  {
   "cell_type": "markdown",
   "metadata": {},
   "source": [
    "Etapa de tempo"
   ]
  },
  {
   "cell_type": "code",
   "execution_count": 4,
   "metadata": {},
   "outputs": [],
   "source": [
    "dt = tau/float(N-1)"
   ]
  },
  {
   "cell_type": "markdown",
   "metadata": {},
   "source": [
    "Tempo para plotagem do gráfico"
   ]
  },
  {
   "cell_type": "code",
   "execution_count": 5,
   "metadata": {},
   "outputs": [],
   "source": [
    "time = linspace (0 , tau , N) "
   ]
  },
  {
   "cell_type": "markdown",
   "metadata": {},
   "source": [
    "Criando uma matriz com N linhas e 2 colunas para armazenar os resultados de cada cálculo. Cada linha de 2 elementos será usada para o estado do sistema em um instante e cada instante é separado pelo tempo dt. O primeiro elemento de cada linha será a posição e o segundo será a velocidade."
   ]
  },
  {
   "cell_type": "code",
   "execution_count": 6,
   "metadata": {},
   "outputs": [],
   "source": [
    "y = zeros([N,2])"
   ]
  },
  {
   "cell_type": "markdown",
   "metadata": {},
   "source": [
    "Condições iniciais"
   ]
  },
  {
   "cell_type": "code",
   "execution_count": 7,
   "metadata": {},
   "outputs": [],
   "source": [
    "y[0,0] = x0\n",
    "y[0,1] = v0"
   ]
  },
  {
   "cell_type": "markdown",
   "metadata": {},
   "source": [
    "Definindo a equação diferencial para este sistema.\n",
    "\n",
    "Nesta etapa pegamos a equação diferencial de segunda ordem.\n",
    "\n",
    "$$\\ddot{x} = \\left (-\\frac{k}{m}\\right )x \\pm \\mu g $$\n",
    "\n",
    "E a transformamos em duas equações diferencias de primeira ordem, introduzindo a velocidade $v$.\n",
    "\n",
    "$$\\dot{x} = v$$\n",
    "\n",
    "$$\\dot{v} = \\left (-\\frac{k}{m}\\right )x \\pm \\mu g $$\n",
    "\n",
    "Como a força de atrito muda a direção de acordo com $v$, colocamos condições para cada equação diferencial.\n"
   ]
  },
  {
   "cell_type": "code",
   "execution_count": 8,
   "metadata": {},
   "outputs": [],
   "source": [
    "def Spring_Mass(state, time):\n",
    "    \n",
    "    g0 = state[1]\n",
    "    if g0 > 0:\n",
    "        g1 = -(k/m)*state[0] - gravity*mu\n",
    "    else:\n",
    "        g1 = -(k/m)*state[0] + gravity*mu\n",
    "    \n",
    "    return array ([g0,g1])"
   ]
  },
  {
   "cell_type": "markdown",
   "metadata": {},
   "source": [
    "Iniciando os cálculos. O loop é feito apenas para N-1, para que não haja problemas ao abordar o ponto N+1. Aplica-se o Método de Euler para a solução analítica."
   ]
  },
  {
   "cell_type": "code",
   "execution_count": 9,
   "metadata": {},
   "outputs": [],
   "source": [
    "for j in range(N - 1):\n",
    "    y[j+1] = y[j+1] = rk2(y[j], 0, dt, Spring_Mass)"
   ]
  },
  {
   "cell_type": "markdown",
   "metadata": {},
   "source": [
    "Plotando os resultados."
   ]
  },
  {
   "cell_type": "code",
   "execution_count": 10,
   "metadata": {},
   "outputs": [
    {
     "data": {
      "image/png": "[encoded data removed]",
      "text/plain": [
       "<Figure size 432x288 with 1 Axes>"
      ]
     },
     "metadata": {
      "needs_background": "light"
     },
     "output_type": "display_data"
    }
   ],
   "source": [
    "plot (time, y[:,0])\n",
    "xlabel ('Time') \n",
    "ylabel ('Position') \n",
    "show()"
   ]
  },
  {
   "cell_type": "markdown",
   "metadata": {},
   "source": [
    "Referência:\n",
    "\n",
    "AYARS, Eric et al. Computational Physics With Python. Califórnia: California State University, 2013. 194 p."
   ]
  }
 ],
 "metadata": {
  "kernelspec": {
   "display_name": "Python 3",
   "language": "python",
   "name": "python3"
  },
  "language_info": {
   "codemirror_mode": {
    "name": "ipython",
    "version": 3
   },
   "file_extension": ".py",
   "mimetype": "text/x-python",
   "name": "python",
   "nbconvert_exporter": "python",
   "pygments_lexer": "ipython3",
   "version": "3.7.4"
  }
 },
 "nbformat": 4,
 "nbformat_minor": 2
}
